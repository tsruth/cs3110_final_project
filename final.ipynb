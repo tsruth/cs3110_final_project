{
 "cells": [
  {
   "cell_type": "markdown",
   "id": "5391f585",
   "metadata": {},
   "source": [
    "# Synthetic Data - CS3110 Final Project\n",
    "\n",
    "### Main Goal\n",
    "Our team consists of Teddy Ruth, Joe Brennan, and Jordan Gottlieb. Our goal in this project is to go further in depth into the accuracies (or lackthereof) of synthetic data. How does accuracy compare across different marginals? What techniques can we use to maximize accuracy? What are some of the negative consequences of increasing accuracy?"
   ]
  },
  {
   "cell_type": "markdown",
   "id": "e272ed65",
   "metadata": {},
   "source": [
    "TODO: \n",
    "\n",
    "1. Establish accuracy of 4-way marginal - done\n",
    "2. Develop overlapping marginals - done\n",
    "3. Establish accuracy of overlapping marginals - done\n",
    "4. Run a series of queries on overlapping marginals\n",
    "5. Run the same queries using laplace/gaussian mech on orignal data\n",
    "6. Present findings"
   ]
  },
  {
   "cell_type": "code",
   "execution_count": 2,
   "id": "a65aa236",
   "metadata": {},
   "outputs": [],
   "source": [
    "import pandas as pd\n",
    "import numpy as np\n",
    "from scipy import stats\n",
    "import matplotlib.pyplot as plt\n",
    "\n",
    "def laplace_mech(v, sensitivity, epsilon):\n",
    "    return v + np.random.laplace(loc=0, scale=sensitivity / epsilon)\n",
    "\n",
    "def gaussian_mech(v, sensitivity, epsilon, delta):\n",
    "    return v + np.random.normal(loc=0, scale=sensitivity * np.sqrt(2*np.log(1.25/delta)) / epsilon)\n",
    "\n",
    "def gaussian_mech_vec(vec, sensitivity, epsilon, delta):\n",
    "    return [v + np.random.normal(loc=0, scale=sensitivity * np.sqrt(2*np.log(1.25/delta)) / epsilon)\n",
    "            for v in vec]\n",
    "\n",
    "def pct_error(orig, priv):\n",
    "    return np.abs(orig - priv)/orig * 100.0\n",
    "\n",
    "def pct_error_vec(orig, priv):\n",
    "    errors = []\n",
    "    for i in range(len(orig)):\n",
    "        pct_err = np.abs(orig[i]-priv[i])/orig[i] * 100.0\n",
    "        errors.append(pct_err)\n",
    "\n",
    "    return errors\n",
    "\n",
    "\n",
    "evs = pd.read_csv(\"Electric_Vehicle_Population_Data.csv\")\n"
   ]
  },
  {
   "cell_type": "markdown",
   "id": "fd00f979",
   "metadata": {},
   "source": [
    "## 1. Generating synthetic representations and data"
   ]
  },
  {
   "cell_type": "markdown",
   "id": "ea6d1575",
   "metadata": {},
   "source": [
    "### dp_marginal\n",
    "\n",
    "The below function calculates the marginal of a given column and epsilon value. The function returns a dictionary where the keys are the column value, and the value is the chance of occurence over the whole dataset. For example, when passing in the `County` column, the function will return the counties in the dataset as key values, and the number of occurences over the whole dataset"
   ]
  },
  {
   "cell_type": "code",
   "execution_count": 3,
   "id": "b8fa5ad4",
   "metadata": {},
   "outputs": [],
   "source": [
    "def dp_marginal(col, epsilon):\n",
    "    \n",
    "    data = evs[col].value_counts()\n",
    "    results = [x for x in data]\n",
    "    noisy = [laplace_mech(v, 1, epsilon) for v in results]\n",
    "    labels = evs[col].value_counts().index.to_list()\n",
    "    syn_rep = {}\n",
    "    \n",
    "    for x in range(len(labels)):\n",
    "        syn_rep[labels[x]] = max(0, noisy[x])\n",
    "    \n",
    "    total = sum(syn_rep.values())\n",
    "    \n",
    "    marginal = {}\n",
    "    for x in labels:\n",
    "        marginal[x] = syn_rep[x] / total\n",
    "    return marginal\n",
    "\n",
    "\n",
    "marginal = dp_marginal('County', 1.0)"
   ]
  },
  {
   "cell_type": "markdown",
   "id": "5ea6f56d",
   "metadata": {},
   "source": [
    "### dp_synthetic_data_1way\n",
    "\n",
    "This function generates synthetic data by generating a marginal for every column passed to the function and then combining data into a single dataframe to return. The function takes which columns, the number of rows to generate, and the epsilon value."
   ]
  },
  {
   "cell_type": "code",
   "execution_count": 55,
   "id": "75dd099c",
   "metadata": {},
   "outputs": [],
   "source": [
    "def dp_synthetic_data_1way(cols, n, epsilon):\n",
    "    df_data = {}\n",
    "    for col in cols:\n",
    "        df_data[col] = []\n",
    "        data = evs[col].value_counts().index.to_list()\n",
    "        results = [x for x in data]\n",
    "        marginal = list(dp_marginal(col, epsilon).values())\n",
    "        synthetic = np.random.choice(results, size=n, p=marginal)\n",
    "        \n",
    "        for x in synthetic:\n",
    "            df_data[col].append(x)\n",
    "            \n",
    "    dp_df = pd.DataFrame.from_dict(df_data)\n",
    "    \n",
    "    return dp_df"
   ]
  },
  {
   "cell_type": "markdown",
   "id": "f0bedb93",
   "metadata": {},
   "source": [
    "### syn_data1\n",
    "\n",
    "Synthetic data of just the `County` column."
   ]
  },
  {
   "cell_type": "code",
   "execution_count": 61,
   "id": "aaf07aca",
   "metadata": {},
   "outputs": [
    {
     "name": "stdout",
     "output_type": "stream",
     "text": [
      "         County\n",
      "0   Santa Clara\n",
      "1          King\n",
      "2          King\n",
      "3          King\n",
      "4          King\n",
      "..          ...\n",
      "95         King\n",
      "96         King\n",
      "97         King\n",
      "98       Pierce\n",
      "99         King\n",
      "\n",
      "[100 rows x 1 columns]\n"
     ]
    }
   ],
   "source": [
    "syn_data1 = dp_synthetic_data_1way(['County'], 100, 1.0)\n",
    "print(syn_data1)"
   ]
  },
  {
   "cell_type": "markdown",
   "id": "aca1ee97",
   "metadata": {},
   "source": [
    "### syn_data2\n",
    "Synthetic data of `County` and `Make` by stitching together 2 1-way marginals"
   ]
  },
  {
   "cell_type": "code",
   "execution_count": 62,
   "id": "6e8f8a4d",
   "metadata": {},
   "outputs": [
    {
     "name": "stdout",
     "output_type": "stream",
     "text": [
      "       County        Make\n",
      "0        King       TESLA\n",
      "1        King        MINI\n",
      "2   Snohomish       TESLA\n",
      "3     Spokane       TESLA\n",
      "4        King         KIA\n",
      "..        ...         ...\n",
      "95       King  VOLKSWAGEN\n",
      "96      Clark      NISSAN\n",
      "97   Thurston   CHEVROLET\n",
      "98       King   CHEVROLET\n",
      "99       King       TESLA\n",
      "\n",
      "[100 rows x 2 columns]\n"
     ]
    }
   ],
   "source": [
    "syn_data2 = dp_synthetic_data_1way(['County', 'Make'], 100, 1.0)\n",
    "print(syn_data2)"
   ]
  },
  {
   "cell_type": "markdown",
   "id": "1d3626d4",
   "metadata": {},
   "source": [
    "The issue with `dp_synthetic_data_1way` is that it does not preserve any of the correlations in the dataset. It is merely taking 2 marginals and stitching them together. While this may generate good data if there is no preference to maintain correlations between columns in the data, this will not do a good job if it is desired to preserve these correlations. In order to address this we can generate a new set of synthetic data using 2 way marginals which preserves these correlations."
   ]
  },
  {
   "cell_type": "markdown",
   "id": "c1be9d69",
   "metadata": {},
   "source": [
    "### dp_two_marginal"
   ]
  },
  {
   "cell_type": "code",
   "execution_count": 50,
   "id": "aa5d90c5",
   "metadata": {},
   "outputs": [],
   "source": [
    "def dp_two_marginal(col1, col2, epsilon):\n",
    "    hist = evs[[col1, col2]].value_counts()\n",
    "    dp_hist = hist.apply(lambda x: laplace_mech(x, 1, epsilon))\n",
    "    dp_hist = dp_hist.clip(lower=0)\n",
    "    \n",
    "    s = dp_hist.sum()\n",
    "    \n",
    "    dp_hist = dp_hist.to_frame().reset_index()\n",
    "    dp_hist.rename(columns={0:'probability'}, inplace=True)\n",
    "    \n",
    "    for x in range(len(dp_hist)):\n",
    "        val = dp_hist.at[x,'probability']\n",
    "        dp_hist.at[x, 'probability'] = val / s\n",
    "    \n",
    "    \n",
    "    return(dp_hist)\n",
    "\n",
    "marginal2 = dp_two_marginal('County', 'Make', 1.0)"
   ]
  },
  {
   "cell_type": "markdown",
   "id": "1c28f98d",
   "metadata": {},
   "source": [
    "### dp_synthetic_data\n",
    "\n",
    "Generates synthetic data of n rows when given a marginal"
   ]
  },
  {
   "cell_type": "code",
   "execution_count": 51,
   "id": "20e59128",
   "metadata": {},
   "outputs": [],
   "source": [
    "def dp_synthetic_data(n, marginal):\n",
    "    samples = marginal.sample(n=n, replace=True, weights='probability')\n",
    "    return samples"
   ]
  },
  {
   "cell_type": "markdown",
   "id": "10b6735d",
   "metadata": {},
   "source": [
    "### syn_data3\n",
    "Synthetic data generated using 2-way marginal of `County` and `Make`"
   ]
  },
  {
   "cell_type": "code",
   "execution_count": 65,
   "id": "58853c15",
   "metadata": {},
   "outputs": [
    {
     "name": "stdout",
     "output_type": "stream",
     "text": [
      "        County       Make  probability\n",
      "0         King      TESLA     0.258317\n",
      "0         King      TESLA     0.258317\n",
      "135   San Juan  CHEVROLET     0.000731\n",
      "4         King  CHEVROLET     0.032422\n",
      "19        King   CHRYSLER     0.009847\n",
      "..         ...        ...          ...\n",
      "0         King      TESLA     0.258317\n",
      "83   Snohomish       AUDI     0.001531\n",
      "0         King      TESLA     0.258317\n",
      "0         King      TESLA     0.258317\n",
      "0         King      TESLA     0.258317\n",
      "\n",
      "[100 rows x 3 columns]\n"
     ]
    }
   ],
   "source": [
    "syn_data3 = dp_synthetic_data(100, marginal2)\n",
    "print(syn_data3)"
   ]
  },
  {
   "cell_type": "markdown",
   "id": "c31b3437",
   "metadata": {},
   "source": [
    "### Note:\n",
    "While we may not initially notice anything by constructing a 2 way marginal, what happens when we construct a 4 way marginal? Below we notice that the number of rows significantly increases. This is because with a 4 way marginal we group the data by 4 columns which leds to more specificity in grouping causing more and smaller groups. These small groups lead to a lower signal and more noise disruption when generating our marginal."
   ]
  },
  {
   "cell_type": "markdown",
   "id": "fbaef477",
   "metadata": {},
   "source": [
    "### dp_four_marginal"
   ]
  },
  {
   "cell_type": "code",
   "execution_count": 53,
   "id": "da1643c8",
   "metadata": {},
   "outputs": [],
   "source": [
    "def dp_four_marginal(col1, col2, col3, col4, epsilon):\n",
    "    hist = evs[[col1, col2, col3, col4]].value_counts()\n",
    "    dp_hist = hist.apply(lambda x: laplace_mech(x, 1, epsilon))\n",
    "    dp_hist = dp_hist.clip(lower=0)\n",
    "    \n",
    "    s = dp_hist.sum()\n",
    "    \n",
    "    dp_hist = dp_hist.to_frame().reset_index()\n",
    "    dp_hist.rename(columns={0:'probability'}, inplace=True)\n",
    "    \n",
    "    for x in range(len(dp_hist)):\n",
    "        val = dp_hist.at[x,'probability']\n",
    "        dp_hist.at[x, 'probability'] = val / s\n",
    "    \n",
    "    \n",
    "    return(dp_hist)\n",
    "\n",
    "marginal4 = dp_four_marginal('County', 'Make', 'Electric Range', 'Model Year', 1.0)"
   ]
  },
  {
   "cell_type": "markdown",
   "id": "ee75bf4e",
   "metadata": {},
   "source": [
    "### syn_data4\n",
    "Synthetic data generated using 4-way marginal of `County`, `Make`, `Electric Range`, and `Model Year`."
   ]
  },
  {
   "cell_type": "code",
   "execution_count": 67,
   "id": "edb5e5e5",
   "metadata": {},
   "outputs": [
    {
     "name": "stdout",
     "output_type": "stream",
     "text": [
      "         County       Make  Electric Range  Model Year  probability\n",
      "37         King     NISSAN               0        2023     0.003387\n",
      "109        King     NISSAN              73        2012     0.001280\n",
      "1524     Chelan     NISSAN             107        2017     0.000062\n",
      "948      Pierce     TOYOTA               6        2013     0.000135\n",
      "285   Snohomish  CHEVROLET              38        2014     0.000518\n",
      "...         ...        ...             ...         ...          ...\n",
      "809       Clark     NISSAN              84        2014     0.000163\n",
      "1          King      TESLA               0        2022     0.051126\n",
      "77         King       AUDI             204        2019     0.001827\n",
      "81    Snohomish    HYUNDAI               0        2023     0.001772\n",
      "1144     Pierce      TESLA             289        2020     0.000101\n",
      "\n",
      "[100 rows x 5 columns]\n"
     ]
    }
   ],
   "source": [
    "syn_data4 = dp_synthetic_data(100, marginal4)\n",
    "print(syn_data4)"
   ]
  },
  {
   "cell_type": "markdown",
   "id": "808649cb",
   "metadata": {},
   "source": [
    "Our last method for generating accurate multidimensional marginals is by using overlapping marginals to preserve some of the correlations that we deem important while at the same time not utilizing high dimensional groupings that we would severly lower the signal of that data and hurt accuracy."
   ]
  },
  {
   "cell_type": "markdown",
   "id": "299d50e2",
   "metadata": {},
   "source": [
    "### dp_marginal_df and gen_sample\n",
    "\n",
    "Below are two helper functions for our 'dp_synthetic_data_overlapping_marginals' function."
   ]
  },
  {
   "cell_type": "code",
   "execution_count": 13,
   "id": "c1178068",
   "metadata": {},
   "outputs": [],
   "source": [
    "def dp_marginal_df(col, epsilon, df):\n",
    "    f = lambda x: x + np.random.laplace(loc=0, scale=1/epsilon)\n",
    "    hist_noisy = df[col].value_counts().apply(f)\n",
    "     \n",
    "    non_negative_syn_rep = np.clip(hist_noisy, 0, None)\n",
    "    \n",
    "    total = np.sum(non_negative_syn_rep)\n",
    "    h = lambda x: x/total #normalized\n",
    "    \n",
    "    return non_negative_syn_rep.apply(h)\n",
    "\n",
    "def gen_sample(marginal, cols, df):\n",
    "    keys = df[cols].value_counts().keys()\n",
    "    return np.random.choice(keys, size=1, p=marginal)"
   ]
  },
  {
   "cell_type": "markdown",
   "id": "83f0a1c7",
   "metadata": {},
   "source": [
    "### dp_synthetic_data_overlapping_marginals"
   ]
  },
  {
   "cell_type": "code",
   "execution_count": 19,
   "id": "4b856d7b",
   "metadata": {},
   "outputs": [
    {
     "data": {
      "text/html": [
       "<div>\n",
       "<style scoped>\n",
       "    .dataframe tbody tr th:only-of-type {\n",
       "        vertical-align: middle;\n",
       "    }\n",
       "\n",
       "    .dataframe tbody tr th {\n",
       "        vertical-align: top;\n",
       "    }\n",
       "\n",
       "    .dataframe thead th {\n",
       "        text-align: right;\n",
       "    }\n",
       "</style>\n",
       "<table border=\"1\" class=\"dataframe\">\n",
       "  <thead>\n",
       "    <tr style=\"text-align: right;\">\n",
       "      <th></th>\n",
       "      <th>County</th>\n",
       "      <th>Make</th>\n",
       "      <th>Electric Range</th>\n",
       "      <th>Model Year</th>\n",
       "    </tr>\n",
       "  </thead>\n",
       "  <tbody>\n",
       "    <tr>\n",
       "      <th>0</th>\n",
       "      <td>King</td>\n",
       "      <td>CHEVROLET</td>\n",
       "      <td>53</td>\n",
       "      <td>2017</td>\n",
       "    </tr>\n",
       "    <tr>\n",
       "      <th>1</th>\n",
       "      <td>Snohomish</td>\n",
       "      <td>TESLA</td>\n",
       "      <td>208</td>\n",
       "      <td>2014</td>\n",
       "    </tr>\n",
       "    <tr>\n",
       "      <th>2</th>\n",
       "      <td>Snohomish</td>\n",
       "      <td>TESLA</td>\n",
       "      <td>0</td>\n",
       "      <td>2023</td>\n",
       "    </tr>\n",
       "    <tr>\n",
       "      <th>3</th>\n",
       "      <td>King</td>\n",
       "      <td>TESLA</td>\n",
       "      <td>330</td>\n",
       "      <td>2020</td>\n",
       "    </tr>\n",
       "    <tr>\n",
       "      <th>4</th>\n",
       "      <td>Pierce</td>\n",
       "      <td>TESLA</td>\n",
       "      <td>0</td>\n",
       "      <td>2023</td>\n",
       "    </tr>\n",
       "    <tr>\n",
       "      <th>...</th>\n",
       "      <td>...</td>\n",
       "      <td>...</td>\n",
       "      <td>...</td>\n",
       "      <td>...</td>\n",
       "    </tr>\n",
       "    <tr>\n",
       "      <th>95</th>\n",
       "      <td>Snohomish</td>\n",
       "      <td>TESLA</td>\n",
       "      <td>0</td>\n",
       "      <td>2022</td>\n",
       "    </tr>\n",
       "    <tr>\n",
       "      <th>96</th>\n",
       "      <td>King</td>\n",
       "      <td>PORSCHE</td>\n",
       "      <td>14</td>\n",
       "      <td>2017</td>\n",
       "    </tr>\n",
       "    <tr>\n",
       "      <th>97</th>\n",
       "      <td>Snohomish</td>\n",
       "      <td>TESLA</td>\n",
       "      <td>208</td>\n",
       "      <td>2015</td>\n",
       "    </tr>\n",
       "    <tr>\n",
       "      <th>98</th>\n",
       "      <td>Spokane</td>\n",
       "      <td>KIA</td>\n",
       "      <td>0</td>\n",
       "      <td>2022</td>\n",
       "    </tr>\n",
       "    <tr>\n",
       "      <th>99</th>\n",
       "      <td>Snohomish</td>\n",
       "      <td>KIA</td>\n",
       "      <td>32</td>\n",
       "      <td>2022</td>\n",
       "    </tr>\n",
       "  </tbody>\n",
       "</table>\n",
       "<p>100 rows × 4 columns</p>\n",
       "</div>"
      ],
      "text/plain": [
       "       County       Make  Electric Range  Model Year\n",
       "0        King  CHEVROLET              53        2017\n",
       "1   Snohomish      TESLA             208        2014\n",
       "2   Snohomish      TESLA               0        2023\n",
       "3        King      TESLA             330        2020\n",
       "4      Pierce      TESLA               0        2023\n",
       "..        ...        ...             ...         ...\n",
       "95  Snohomish      TESLA               0        2022\n",
       "96       King    PORSCHE              14        2017\n",
       "97  Snohomish      TESLA             208        2015\n",
       "98    Spokane        KIA               0        2022\n",
       "99  Snohomish        KIA              32        2022\n",
       "\n",
       "[100 rows x 4 columns]"
      ]
     },
     "execution_count": 19,
     "metadata": {},
     "output_type": "execute_result"
    }
   ],
   "source": [
    "def dp_synthetic_data_overlapping_marginals(n, epsilon):\n",
    "    synth_df = pd.DataFrame(columns=['County','Make','Electric Range','Model Year'])\n",
    "    \n",
    "    for x in range(n):\n",
    "        # generate marginal of County in evs\n",
    "        m_County = dp_marginal_df('County', epsilon, evs)\n",
    "        # get single synthetic County using marginal and evs\n",
    "        County_syn = gen_sample(m_County, 'County', evs)\n",
    "        \n",
    "        # filter evs to only contain people with that County\n",
    "        filtered_County = evs[evs['County']==County_syn[0]]\n",
    "        \n",
    "        # generate marginal of Make in filtered dataframe\n",
    "        m_Make = dp_marginal_df('Make', epsilon, filtered_County)\n",
    "        # get single synthetic Make using marginal and filtered evs\n",
    "        Make_syn = gen_sample(m_Make, 'Make', filtered_County)\n",
    "        \n",
    "        # filter evs to only contain people with that Make\n",
    "        filtered_Make = evs[evs['Make']==Make_syn[0]]\n",
    "        \n",
    "        #repeat\n",
    "        m_Range = dp_marginal_df('Electric Range', epsilon, filtered_Make)\n",
    "        Range_syn = gen_sample(m_Range, 'Electric Range', filtered_Make)\n",
    "        \n",
    "        filtered_Range = evs[evs['Electric Range']==Range_syn[0]]\n",
    "        \n",
    "        m_Year = dp_marginal_df('Model Year', epsilon, filtered_Range)\n",
    "        Year_syn = gen_sample(m_Year, 'Model Year', filtered_Range)\n",
    "    \n",
    "        synth_df.loc[x] = [County_syn[0], Make_syn[0], Range_syn[0], Year_syn[0]]\n",
    "    return synth_df\n",
    "\n",
    "syn_data = dp_synthetic_data_overlapping_marginals(2000, 1.0)"
   ]
  },
  {
   "cell_type": "markdown",
   "id": "20216fd6",
   "metadata": {},
   "source": [
    "## 2. Evaluation  of percent errors of synthetic data vs. original data"
   ]
  },
  {
   "cell_type": "markdown",
   "id": "45e1636d",
   "metadata": {},
   "source": [
    "### pct_error_1Dmarginal"
   ]
  },
  {
   "cell_type": "code",
   "execution_count": 71,
   "id": "90b5a0ce",
   "metadata": {},
   "outputs": [
    {
     "name": "stdout",
     "output_type": "stream",
     "text": [
      "Mean Error for Column 'Make': 8.884915813085707\n"
     ]
    }
   ],
   "source": [
    "def pct_error_1Dmarginal(marginal):\n",
    "\n",
    "    def gen_samples(cols, n, epsilon):\n",
    "        df_data = {}\n",
    "        for col in cols:\n",
    "            df_data[col] = []\n",
    "            data = evs[col].value_counts().index.to_list()\n",
    "            results = [x for x in data]\n",
    "            marginal = list(dp_marginal(col, epsilon).values())\n",
    "            synthetic = np.random.choice(results, size=n, p=marginal)\n",
    "            \n",
    "            for x in synthetic:\n",
    "                df_data[col].append(x)\n",
    "                \n",
    "        dp_df = pd.DataFrame.from_dict(df_data)\n",
    "\n",
    "        return dp_df\n",
    "    \n",
    "    syn_data = gen_samples([column], len(evs), 1.0).value_counts()\n",
    "    ev_makes = evs[column].value_counts()\n",
    "\n",
    "\n",
    "    errors = pct_error_vec(list(syn_data), list(ev_makes))\n",
    "\n",
    "    errors_sum = sum(errors)\n",
    "\n",
    "    return((errors_sum / len(errors)))\n",
    "\n",
    "\n",
    "column = 'Make'\n",
    "marginal = dp_marginal(column, 1.0)\n",
    "mean_error = pct_error_1Dmarginal(marginal)\n",
    "print(f\"Mean Error for Column '{column}': \" + str(mean_error))\n"
   ]
  },
  {
   "cell_type": "markdown",
   "id": "c0a89989",
   "metadata": {},
   "source": [
    "In the above cell we determine the mean percent error of a single iteration of generating a single column of synthetic data. This information while useful is still volatile, below I will establish the mean percent error over 50 iterations."
   ]
  },
  {
   "cell_type": "code",
   "execution_count": 72,
   "id": "1ace2ad8",
   "metadata": {},
   "outputs": [
    {
     "data": {
      "text/plain": [
       "7.733500137423709"
      ]
     },
     "execution_count": 72,
     "metadata": {},
     "output_type": "execute_result"
    }
   ],
   "source": [
    "def mean_pct_error_1Dmarginal(column):\n",
    "    errors = []\n",
    "\n",
    "    for x in range(50):\n",
    "        marginal = dp_marginal(column, 1.0)\n",
    "        error = pct_error_1Dmarginal(marginal)\n",
    "        errors.append(error)\n",
    "\n",
    "    mean_error = sum(errors) / len(errors)\n",
    "\n",
    "    return (mean_error)\n",
    "\n",
    "mean_pct_error_1Dmarginal('Make')"
   ]
  },
  {
   "cell_type": "markdown",
   "id": "70aee4d4",
   "metadata": {},
   "source": [
    "Running this code over 50 iterations yields us an average percent error of ~7-8% variance from the initial dataset. While this number is not incredibly high, it does not indicate possible errors over multiple columns. In the next cells we will determine the percent error over multiple columns. We will start with the percent error of the previous 4 way marginal"
   ]
  },
  {
   "cell_type": "markdown",
   "id": "1aec0223",
   "metadata": {},
   "source": [
    "### pct_error_4Dmarginal\n",
    "The function below generates the percent error of a 4D marginal generated synthetic dataset by comparing each of its column values to the column values of the original dataset."
   ]
  },
  {
   "cell_type": "code",
   "execution_count": 73,
   "id": "5fea55e8",
   "metadata": {},
   "outputs": [
    {
     "data": {
      "text/plain": [
       "(9.294698825579147, 8.531031222384305, 8.140073828065582, 8.978874845300655)"
      ]
     },
     "execution_count": 73,
     "metadata": {},
     "output_type": "execute_result"
    }
   ],
   "source": [
    "def pct_error_4Dmarginal(col1, col2, col3, col4):\n",
    "    fourWay = dp_four_marginal(col1, col2, col3, col4, 1.0)\n",
    "    error_col1 = pct_error_1Dmarginal(fourWay[col1])\n",
    "    error_col2 = pct_error_1Dmarginal(fourWay[col2])\n",
    "    error_col3 = pct_error_1Dmarginal(fourWay[col3])\n",
    "    error_col4 = pct_error_1Dmarginal(fourWay[col4])\n",
    "\n",
    "    return error_col1, error_col2, error_col3, error_col4\n",
    "    \n",
    "pct_error_4Dmarginal('County', 'Make', 'Electric Range', 'Model Year')"
   ]
  },
  {
   "cell_type": "markdown",
   "id": "1909a064",
   "metadata": {},
   "source": [
    "In order to obtain a more accurate result we generate 50 percent errors for each of the columns and then take the mean of each."
   ]
  },
  {
   "cell_type": "code",
   "execution_count": 74,
   "id": "2bd3b96e",
   "metadata": {},
   "outputs": [
    {
     "data": {
      "text/plain": [
       "(6.90853366440221, 7.378668659455775, 8.135875099474562, 7.5798876411004015)"
      ]
     },
     "execution_count": 74,
     "metadata": {},
     "output_type": "execute_result"
    }
   ],
   "source": [
    "def mean_pct_error_4Dmarginal(col1, col2, col3, col4):\n",
    "    errors1 = []\n",
    "    errors2 = []\n",
    "    errors3 = []\n",
    "    errors4 = []\n",
    "\n",
    "    for x in range(50):\n",
    "        error1, error2, error3, error4 = pct_error_4Dmarginal(col1, col2, col3, col4)\n",
    "        errors1.append(error1)\n",
    "        errors2.append(error2)\n",
    "        errors3.append(error3)\n",
    "        errors4.append(error4)\n",
    "\n",
    "    mean_error1 = sum(errors1) / len(errors1)\n",
    "    mean_error2 = sum(errors2) / len(errors2)\n",
    "    mean_error3 = sum(errors3) / len(errors3)\n",
    "    mean_error4 = sum(errors4) / len(errors4)\n",
    "    \n",
    "    return (mean_error1, mean_error2, mean_error3, mean_error4)\n",
    "\n",
    "mean_pct_error_4Dmarginal('County', 'Make', 'Electric Range', 'Model Year')"
   ]
  },
  {
   "cell_type": "markdown",
   "id": "3387e348",
   "metadata": {},
   "source": [
    "### pct_error_overlapping_marginals"
   ]
  },
  {
   "cell_type": "code",
   "execution_count": 75,
   "id": "b6c6b6e2",
   "metadata": {},
   "outputs": [
    {
     "data": {
      "text/plain": [
       "(4.802018009994064, 9.055459966583419, 6.468841529642848, 8.477605204435296)"
      ]
     },
     "execution_count": 75,
     "metadata": {},
     "output_type": "execute_result"
    }
   ],
   "source": [
    "def pct_error_overlapping_marginals(col1, col2, col3, col4):\n",
    "    marginal = dp_synthetic_data_overlapping_marginals(2000,1)\n",
    "    error_col1 = pct_error_1Dmarginal(marginal[col1])\n",
    "    error_col2 = pct_error_1Dmarginal(marginal[col2])\n",
    "    error_col3 = pct_error_1Dmarginal(marginal[col3])\n",
    "    error_col4 = pct_error_1Dmarginal(marginal[col4])\n",
    "\n",
    "    return error_col1, error_col2, error_col3, error_col4\n",
    "    \n",
    "pct_error_overlapping_marginals('County', 'Make', 'Electric Range', 'Model Year')"
   ]
  },
  {
   "cell_type": "markdown",
   "id": "9ea1bba2",
   "metadata": {},
   "source": [
    "It is possible to evaluate this multiple times and take the average; however, due to the nature of the task it takes a significant amount of time (10 - 15 minutes). We have provided the code to run the error of overlapping marginals multiple times for those interested."
   ]
  },
  {
   "cell_type": "code",
   "execution_count": null,
   "id": "2467fdcd",
   "metadata": {},
   "outputs": [
    {
     "data": {
      "text/plain": [
       "(9.196959193888604, 7.136894440226206, 8.494631905781915, 6.384757144998363)"
      ]
     },
     "execution_count": 38,
     "metadata": {},
     "output_type": "execute_result"
    }
   ],
   "source": [
    "def mean_pct_error_overlapping_marginal(col1, col2, col3, col4):\n",
    "    errors1 = []\n",
    "    errors2 = []\n",
    "    errors3 = []\n",
    "    errors4 = []\n",
    "\n",
    "    for x in range(10):\n",
    "        error1, error2, error3, error4 = pct_error_overlapping_marginals(col1, col2, col3, col4)\n",
    "        errors1.append(error1)\n",
    "        errors2.append(error2)\n",
    "        errors3.append(error3)\n",
    "        errors4.append(error4)\n",
    "\n",
    "    mean_error1 = sum(errors1) / len(errors1)\n",
    "    mean_error2 = sum(errors2) / len(errors2)\n",
    "    mean_error3 = sum(errors3) / len(errors3)\n",
    "    mean_error4 = sum(errors4) / len(errors4)\n",
    "    \n",
    "    return (mean_error1, mean_error2, mean_error3, mean_error4)\n",
    "\n",
    "mean_pct_error_overlapping_marginal('County', 'Make', 'Electric Range', 'Model Year')"
   ]
  },
  {
   "cell_type": "code",
   "execution_count": null,
   "id": "d858d60e",
   "metadata": {},
   "outputs": [],
   "source": [
    "\"\"\" COUNT QUERIES \"\"\"\n",
    "def count_query(df, col, equals):\n",
    "    return len(df[df[col]==equals])\n",
    "\n",
    "\n",
    "evs = evs[0:len(syn_data)]\n",
    "syn_count = count_query(syn_data, 'Make', 'TESLA')\n",
    "lp_count = laplace_mech(count_query(evs[0:len(syn_data)], 'Make', 'TESLA'), 1, 1.0)\n",
    "count = len(evs[evs['Make'] == 'TESLA'])\n",
    "\n",
    "\n",
    "syn_count_err = pct_error(syn_count, count)\n",
    "lp_count_err = pct_error(lp_count, count)\n",
    "\n",
    "\n",
    "\n",
    "\n",
    "\"\"\" MEAN QUERIES \"\"\"\n",
    "\n",
    "\n",
    "def mean_query(df, col):\n",
    "    df_sum = df[col].sum()\n",
    "    df_len = len(df)\n",
    "    return df_sum / df_len\n",
    "\n",
    "\n",
    "def dp_mean_query(df, col, epsilon):\n",
    "    df_sum = laplace_mech(df[col].sum(), 400, epsilon / 2)\n",
    "    df_len = laplace_mech(len(df), 1, epsilon / 2)\n",
    "    return df_sum / df_len\n",
    "\n",
    "\n",
    "\n",
    "\n",
    "syn_mean = mean_query(syn_data, 'Electric Range')\n",
    "mech_mean = dp_mean_query(evs, 'Electric Range', 1.0)\n",
    "ev_mean = mean_query(evs, 'Electric Range')\n",
    "\n",
    "\n",
    "syn_mean_err = pct_error(syn_mean, ev_mean)\n",
    "mech_mean_err = pct_error(mech_mean, ev_mean)\n",
    "\n",
    "\n",
    "print(\"SYNTHETIC\")\n",
    "print(syn_count_err)\n",
    "print(syn_mean_err)"
   ]
  }
 ],
 "metadata": {
  "kernelspec": {
   "display_name": "Python 3 (ipykernel)",
   "language": "python",
   "name": "python3"
  },
  "language_info": {
   "codemirror_mode": {
    "name": "ipython",
    "version": 3
   },
   "file_extension": ".py",
   "mimetype": "text/x-python",
   "name": "python",
   "nbconvert_exporter": "python",
   "pygments_lexer": "ipython3",
   "version": "3.11.4"
  }
 },
 "nbformat": 4,
 "nbformat_minor": 5
}
